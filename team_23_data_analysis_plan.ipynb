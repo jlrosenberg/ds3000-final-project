{
 "cells": [
  {
   "cell_type": "markdown",
   "metadata": {},
   "source": [
    "# Data and Analysis Plan: Movie Reccomendation\n",
    "## Team -23\n",
    "\n",
    "- Vedant Bhagat (bhagat.ve@northeastern.edu)\n",
    "- Anthony Lee (lee.ant@northeastern.edu)\n",
    "- Dawn Lu (lu.daw@northeastern.edu)\n",
    "- Josh Rosenberg (rosenberg.jo@northeastern.edu)"
   ]
  },
  {
   "cell_type": "markdown",
   "metadata": {},
   "source": [
    "\n",
    "## Project Goal:\n",
    "This work will scrape lists of board games from [BoardGameGeek.com](https://boardgamegeek.com/) to reccomend a new board game to users who input a game they already enjoy. "
   ]
  },
  {
   "cell_type": "markdown",
   "metadata": {},
   "source": [
    "## Data \n",
    "<font color='green'>\n",
    "(1%) Gives a summary of the data processing pipeline so a technical expert can easily follow along.\n",
    "    \n",
    "    \n",
    "This overview section allows you to describe an overview of your data processing pipeline.  \n",
    "    \n",
    "Your pipeline should end by saving one or more csvs of data which will be loaded by the analysis portion of the notebook.\n",
    "</font>\n",
    "\n",
    "### Overview \n",
    "We will scrape a [list of all boardgames](https://boardgamegeek.com/browse/boardgame) ranked by popularity from BoardGameGeek.  \n",
    "\n",
    "<img src=\"https://i.ibb.co/mD456p1/Screenshot-from-2021-03-14-09-25-01.png\" width=800px>\n",
    "\n",
    "\n",
    "From this list, for each game, we can obtain:\n",
    "- title\n",
    "- year published\n",
    "- url to specific game page\n",
    "- description (e.g. \"Vanquish monsters ...\")\n",
    "\n",
    "Upon visiting an [individual game's webpage](https://boardgamegeek.com/boardgame/174430/gloomhaven) we can use the top titlebar:\n",
    "\n",
    "<img src=\"https://i.ibb.co/6DdmKsg/Screenshot-from-2021-03-13-18-57-00.png\" width=600px>\n",
    "\n",
    "to observe:\n",
    "- complexity rating\n",
    "- playtime (mins a typical game lasts)\n",
    "- min/max number of player required\n",
    "- reccomended age range\n",
    "\n",
    "Most importantly we seek to collect the category and mechanism tags associated with a particular game:\n",
    "<img src=\"https://i.ibb.co/f1mbxVD/Screenshot-from-2021-03-13-18-56-52.png\" width=150px>\n",
    "\n",
    "Each game has multiple category tags.  Our expectation is that games with similar tags are enjoyed by similar players.  This tag data will be essential to reccomend a new game to a player who inputs another game they enjoy.  To simplify analysis, each tag will have its own column in our output DataFrame.  For example:\n",
    "\n",
    "|       | card game | mystery | social | communication |\n",
    "|-------|-----------|---------|--------|---------------|\n",
    "| game0 | True      | True    | False  | False         |\n",
    "| game1 | False     | True    | True   | True          |\n",
    "\n",
    "Indicates that \n",
    "- game0 has tags 'card game' and 'mystery'\n",
    "- game1 has tags ' mystery', 'social' and 'communication'\n",
    "\n",
    "### Pipeline Overview\n",
    "\n",
    "We will accomplish this task with three functions:\n",
    "- `get_url()`\n",
    "    - returns html string of a given url\n",
    "- `clean_top_games()`\n",
    "    - builds dataframe of [a single page of top games](https://boardgamegeek.com/browse/boardgame/page/2) from html string \n",
    "- `clean_game_meta()`\n",
    "    - collects game meta data (tags, complexity, playtime, min/max players, age range ...) from an [individual game's webpage](https://boardgamegeek.com/boardgame/174430/gloomhaven)\n",
    "    \n",
    "As well as two short scripts:\n",
    "- **Scrape list of games:** use `get_url()` and `clean_top_games()` in a loop to collect n pages of top games (100 * n games), populating a DataFrame `df_game`\n",
    "- **Get meta data per game:** loop through each row of `df_game`, query and process the individual game's webpage via `get_url()` and `clean_game_meta()` using the previously collected url and append the remaining features to `df_game`"
   ]
  },
  {
   "cell_type": "code",
   "execution_count": null,
   "metadata": {},
   "outputs": [],
   "source": []
  }
 ],
 "metadata": {
  "kernelspec": {
   "display_name": "Python 3",
   "language": "python",
   "name": "python3"
  },
  "language_info": {
   "codemirror_mode": {
    "name": "ipython",
    "version": 3
   },
   "file_extension": ".py",
   "mimetype": "text/x-python",
   "name": "python",
   "nbconvert_exporter": "python",
   "pygments_lexer": "ipython3",
   "version": "3.8.5"
  }
 },
 "nbformat": 4,
 "nbformat_minor": 4
}
